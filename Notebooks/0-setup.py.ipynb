{
 "cells": [
  {
   "cell_type": "code",
   "execution_count": 95,
   "metadata": {},
   "outputs": [
    {
     "name": "stdout",
     "output_type": "stream",
     "text": [
      "~/devel/linuxDriver/PyXdma ~/devel/linuxDriver/PyXdma/Notebooks\n",
      "Compiling PyXdma/xdma.pyx because it changed.\n",
      "[1/1] Cythonizing PyXdma/xdma.pyx\n",
      "running clean\n",
      "removing 'build/temp.linux-x86_64-3.7' (and everything under it)\n",
      "running sdist\n",
      "running check\n",
      "reading manifest template 'MANIFEST.in'\n",
      "writing manifest file 'MANIFEST'\n",
      "creating PyXdma-0.1.0\n",
      "creating PyXdma-0.1.0/PyXdma\n",
      "creating PyXdma-0.1.0/PyXdma/.ipynb_checkpoints\n",
      "making hard links in PyXdma-0.1.0...\n",
      "hard linking CHANGES.txt -> PyXdma-0.1.0\n",
      "hard linking MANIFEST.in -> PyXdma-0.1.0\n",
      "hard linking README.txt -> PyXdma-0.1.0\n",
      "hard linking setup.cfg -> PyXdma-0.1.0\n",
      "hard linking setup.py -> PyXdma-0.1.0\n",
      "hard linking PyXdma/__init__.py -> PyXdma-0.1.0/PyXdma\n",
      "hard linking PyXdma/cxdma.c -> PyXdma-0.1.0/PyXdma\n",
      "hard linking PyXdma/cxdma.h -> PyXdma-0.1.0/PyXdma\n",
      "hard linking PyXdma/cxdma.pxd -> PyXdma-0.1.0/PyXdma\n",
      "hard linking PyXdma/test.py -> PyXdma-0.1.0/PyXdma\n",
      "hard linking PyXdma/xdma.c -> PyXdma-0.1.0/PyXdma\n",
      "hard linking PyXdma/xdma.cpython-37m-x86_64-linux-gnu.so -> PyXdma-0.1.0/PyXdma\n",
      "hard linking PyXdma/xdma.pyx -> PyXdma-0.1.0/PyXdma\n",
      "hard linking PyXdma/.ipynb_checkpoints/cxdma-checkpoint.h -> PyXdma-0.1.0/PyXdma/.ipynb_checkpoints\n",
      "hard linking PyXdma/.ipynb_checkpoints/cxdma-checkpoint.pxd -> PyXdma-0.1.0/PyXdma/.ipynb_checkpoints\n",
      "hard linking PyXdma/.ipynb_checkpoints/xdma-checkpoint.pyx -> PyXdma-0.1.0/PyXdma/.ipynb_checkpoints\n",
      "creating dist\n",
      "Creating tar archive\n",
      "removing 'PyXdma-0.1.0' (and everything under it)\n",
      "running bdist\n",
      "running bdist_dumb\n",
      "running build\n",
      "running build_py\n",
      "creating build\n",
      "creating build/lib.linux-x86_64-3.7\n",
      "creating build/lib.linux-x86_64-3.7/PyXdma\n",
      "copying PyXdma/__init__.py -> build/lib.linux-x86_64-3.7/PyXdma\n",
      "copying PyXdma/test.py -> build/lib.linux-x86_64-3.7/PyXdma\n",
      "running build_ext\n",
      "building 'PyXdma.xdma' extension\n",
      "creating build/temp.linux-x86_64-3.7\n",
      "creating build/temp.linux-x86_64-3.7/PyXdma\n",
      "gcc -pthread -Wno-unused-result -Wsign-compare -DDYNAMIC_ANNOTATIONS_ENABLED=1 -DNDEBUG -O2 -g -pipe -Wall -Werror=format-security -Wp,-D_FORTIFY_SOURCE=2 -Wp,-D_GLIBCXX_ASSERTIONS -fexceptions -fstack-protector-strong -grecord-gcc-switches -specs=/usr/lib/rpm/redhat/redhat-hardened-cc1 -specs=/usr/lib/rpm/redhat/redhat-annobin-cc1 -m64 -mtune=generic -fasynchronous-unwind-tables -fstack-clash-protection -fcf-protection -D_GNU_SOURCE -fPIC -fwrapv -O2 -g -pipe -Wall -Werror=format-security -Wp,-D_FORTIFY_SOURCE=2 -Wp,-D_GLIBCXX_ASSERTIONS -fexceptions -fstack-protector-strong -grecord-gcc-switches -specs=/usr/lib/rpm/redhat/redhat-hardened-cc1 -specs=/usr/lib/rpm/redhat/redhat-annobin-cc1 -m64 -mtune=generic -fasynchronous-unwind-tables -fstack-clash-protection -fcf-protection -D_GNU_SOURCE -fPIC -fwrapv -flto -fuse-linker-plugin -ffat-lto-objects -flto-partition=none -fPIC -IPyXdma/ -I./PyXdma -IPyXdma -I/home/abajpai/venv/lib64/python3.7/site-packages/numpy/core/include -I/home/abajpai/venv/include -I/usr/include/python3.7m -c PyXdma/xdma.c -o build/temp.linux-x86_64-3.7/PyXdma/xdma.o\n",
      "gcc -pthread -Wno-unused-result -Wsign-compare -DDYNAMIC_ANNOTATIONS_ENABLED=1 -DNDEBUG -O2 -g -pipe -Wall -Werror=format-security -Wp,-D_FORTIFY_SOURCE=2 -Wp,-D_GLIBCXX_ASSERTIONS -fexceptions -fstack-protector-strong -grecord-gcc-switches -specs=/usr/lib/rpm/redhat/redhat-hardened-cc1 -specs=/usr/lib/rpm/redhat/redhat-annobin-cc1 -m64 -mtune=generic -fasynchronous-unwind-tables -fstack-clash-protection -fcf-protection -D_GNU_SOURCE -fPIC -fwrapv -O2 -g -pipe -Wall -Werror=format-security -Wp,-D_FORTIFY_SOURCE=2 -Wp,-D_GLIBCXX_ASSERTIONS -fexceptions -fstack-protector-strong -grecord-gcc-switches -specs=/usr/lib/rpm/redhat/redhat-hardened-cc1 -specs=/usr/lib/rpm/redhat/redhat-annobin-cc1 -m64 -mtune=generic -fasynchronous-unwind-tables -fstack-clash-protection -fcf-protection -D_GNU_SOURCE -fPIC -fwrapv -flto -fuse-linker-plugin -ffat-lto-objects -flto-partition=none -fPIC -IPyXdma/ -I./PyXdma -IPyXdma -I/home/abajpai/venv/lib64/python3.7/site-packages/numpy/core/include -I/home/abajpai/venv/include -I/usr/include/python3.7m -c PyXdma/cxdma.c -o build/temp.linux-x86_64-3.7/PyXdma/cxdma.o\n",
      "gcc -pthread -shared -Wl,-z,relro -Wl,-z,now -specs=/usr/lib/rpm/redhat/redhat-hardened-ld -g -flto -fuse-linker-plugin -ffat-lto-objects -flto-partition=none build/temp.linux-x86_64-3.7/PyXdma/xdma.o build/temp.linux-x86_64-3.7/PyXdma/cxdma.o -LPyXdma -L/usr/lib64 -lpython3.7m -o /home/abajpai/devel/linuxDriver/PyXdma/PyXdma/xdma.cpython-37m-x86_64-linux-gnu.so\n",
      "installing to build/bdist.linux-x86_64/dumb\n",
      "running install\n",
      "running install_lib\n",
      "creating build/bdist.linux-x86_64\n",
      "creating build/bdist.linux-x86_64/dumb\n",
      "creating build/bdist.linux-x86_64/dumb/home\n",
      "creating build/bdist.linux-x86_64/dumb/home/abajpai\n",
      "creating build/bdist.linux-x86_64/dumb/home/abajpai/venv\n",
      "creating build/bdist.linux-x86_64/dumb/home/abajpai/venv/lib64\n",
      "creating build/bdist.linux-x86_64/dumb/home/abajpai/venv/lib64/python3.7\n",
      "creating build/bdist.linux-x86_64/dumb/home/abajpai/venv/lib64/python3.7/site-packages\n",
      "creating build/bdist.linux-x86_64/dumb/home/abajpai/venv/lib64/python3.7/site-packages/PyXdma\n",
      "copying build/lib.linux-x86_64-3.7/PyXdma/__init__.py -> build/bdist.linux-x86_64/dumb/home/abajpai/venv/lib64/python3.7/site-packages/PyXdma\n",
      "copying build/lib.linux-x86_64-3.7/PyXdma/test.py -> build/bdist.linux-x86_64/dumb/home/abajpai/venv/lib64/python3.7/site-packages/PyXdma\n",
      "byte-compiling build/bdist.linux-x86_64/dumb/home/abajpai/venv/lib64/python3.7/site-packages/PyXdma/__init__.py to __init__.cpython-37.pyc\n",
      "byte-compiling build/bdist.linux-x86_64/dumb/home/abajpai/venv/lib64/python3.7/site-packages/PyXdma/test.py to test.cpython-37.pyc\n",
      "running install_egg_info\n",
      "Writing build/bdist.linux-x86_64/dumb/home/abajpai/venv/lib64/python3.7/site-packages/PyXdma-0.1.0-py3.7.egg-info\n",
      "Creating tar archive\n",
      "removing 'build/bdist.linux-x86_64/dumb' (and everything under it)\n",
      "running install\n",
      "running build\n",
      "running build_py\n",
      "running build_ext\n",
      "running install_lib\n",
      "copying build/lib.linux-x86_64-3.7/PyXdma/__init__.py -> /home/abajpai/venv/lib64/python3.7/site-packages/PyXdma\n",
      "copying build/lib.linux-x86_64-3.7/PyXdma/test.py -> /home/abajpai/venv/lib64/python3.7/site-packages/PyXdma\n",
      "byte-compiling /home/abajpai/venv/lib64/python3.7/site-packages/PyXdma/__init__.py to __init__.cpython-37.pyc\n",
      "byte-compiling /home/abajpai/venv/lib64/python3.7/site-packages/PyXdma/test.py to test.cpython-37.pyc\n",
      "running install_egg_info\n",
      "Writing /home/abajpai/venv/lib64/python3.7/site-packages/PyXdma-0.1.0-py3.7.egg-info\n",
      "writing list of installed files to 'install.log'\n",
      "~/devel/linuxDriver/PyXdma/Notebooks\n"
     ]
    },
    {
     "name": "stderr",
     "output_type": "stream",
     "text": [
      "/home/abajpai/venv/lib64/python3.7/site-packages/Cython/Compiler/Main.py:367: FutureWarning: Cython directive 'language_level' not set, using 2 for now (Py2). This will change in a later release! File: /home/abajpai/devel/linuxDriver/PyXdma/PyXdma/xdma.pyx\n",
      "  tree = Parsing.p_module(s, pxd, full_module_name)\n",
      "warning: no files found matching '*.txt' under directory 'docs'\n",
      "warning: no files found matching '*.in' under directory 'docs'\n",
      "warning: no files found matching '*.ipynb' under directory 'docs'\n",
      "PyXdma/cxdma.c: In function ‘devinfo’:\n",
      "PyXdma/cxdma.c:70:14: warning: format ‘%p’ expects argument of type ‘void *’, but argument 2 has type ‘uint32_t’ {aka ‘unsigned int’} [-Wformat=]\n",
      "     printf(\"%p \\n\", read_result);\n",
      "             ~^      ~~~~~~~~~~~\n",
      "             %d\n",
      "PyXdma/cxdma.c:71:14: warning: format ‘%p’ expects argument of type ‘void *’, but argument 2 has type ‘uint32_t’ {aka ‘unsigned int’} [-Wformat=]\n",
      "     printf(\"%p \\n\", (read_result >> 20) & 0xFFF);\n",
      "             ~^      ~~~~~~~~~~~~~~~~~~~~~~~~~~~\n",
      "             %d\n",
      "PyXdma/cxdma.c:72:14: warning: format ‘%p’ expects argument of type ‘void *’, but argument 2 has type ‘uint32_t’ {aka ‘unsigned int’} [-Wformat=]\n",
      "     printf(\"%p \\n\", (read_result >> 12) & 0xFF);\n",
      "             ~^      ~~~~~~~~~~~~~~~~~~~~~~~~~~\n",
      "             %d\n",
      "PyXdma/cxdma.c:52:6: warning: unused variable ‘access_width’ [-Wunused-variable]\n",
      "  int access_width = 'w';\n",
      "      ^~~~~~~~~~~~\n",
      "PyXdma/cxdma.c:51:24: warning: unused variable ‘writeval’ [-Wunused-variable]\n",
      "  uint32_t read_result, writeval;\n",
      "                        ^~~~~~~~\n"
     ]
    }
   ],
   "source": [
    "%%bash\n",
    "pushd ../\n",
    "cat install.log | xargs rm -rf\n",
    "python3 setup.py clean\n",
    "rm -rf dist\n",
    "rm -rf build\n",
    "python3 setup.py sdist\n",
    "python3 setup.py bdist\n",
    "python3 setup.py install --record install.log\n",
    "popd"
   ]
  },
  {
   "cell_type": "code",
   "execution_count": null,
   "metadata": {
    "collapsed": true
   },
   "outputs": [],
   "source": []
  },
  {
   "cell_type": "code",
   "execution_count": null,
   "metadata": {
    "collapsed": true
   },
   "outputs": [],
   "source": []
  }
 ],
 "metadata": {
  "kernelspec": {
   "display_name": "Python 3",
   "language": "python",
   "name": "python3"
  },
  "language_info": {
   "codemirror_mode": {
    "name": "ipython",
    "version": 3
   },
   "file_extension": ".py",
   "mimetype": "text/x-python",
   "name": "python",
   "nbconvert_exporter": "python",
   "pygments_lexer": "ipython3",
   "version": "3.7.0"
  }
 },
 "nbformat": 4,
 "nbformat_minor": 2
}
