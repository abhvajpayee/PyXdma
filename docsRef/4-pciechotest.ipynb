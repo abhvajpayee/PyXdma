{
 "cells": [
  {
   "cell_type": "code",
   "execution_count": null,
   "metadata": {
    "collapsed": false
   },
   "outputs": [],
   "source": [
    "%reload_ext autoreload\n",
    "%autoreload 2\n",
    "import numpy as np\n",
    "np.set_printoptions(formatter={'int':hex})\n",
    "\n",
    "\n",
    "import cluster\n",
    "import aescore\n",
    "import time\n",
    "\n",
    "Cluster = cluster.cluster()\n",
    "Cluster.reset()\n",
    "Cluster.conf(4)"
   ]
  },
  {
   "cell_type": "code",
   "execution_count": 40,
   "metadata": {
    "collapsed": false
   },
   "outputs": [
    {
     "name": "stdout",
     "output_type": "stream",
     "text": [
      "0 1 2 3 4 5 6 7 8 9 10 11 12 13 14 15 16 17 18 19 20 21 22 23 24 25 26 27 28 29 30 31 32 33 34 35 36 37 38 39 40 41 42 43 44 45 46 47 48 49 50 51 52 53 54 55 56 57 58 59 60 61 62 63 64 65 66 67 68 69 70 71 72 73 74 75 76 77 78 79 80 81 82 83 84 85 86 87 88 89 90 91 92 93 94 95 96 97 98 99\n"
     ]
    }
   ],
   "source": [
    "import numpy as np\n",
    "from random import randrange\n",
    "base = 64\n",
    "keysize = 256\n",
    "\n",
    "error = 10\n",
    "watchdog = 0\n",
    "for i in range(100):\n",
    "    #print '###############################'\n",
    "    pid = []\n",
    "    packet = np.array([randrange(2**base) for j in range (6*keysize/base)], dtype=np.uint64)\n",
    "    packetid = (int(packet[0]) >> 48) & 0xFFFF\n",
    "    pid.append(packetid)\n",
    "    packet[0] = (int(packet[0]) & 0xFFFFFFFFFFFFFF00) ^ 0xAE\n",
    "    Cluster.sendpackets(packet, source=0x0000, sink=0x004)\n",
    "    time.sleep(0.5)\n",
    "    respacket = Cluster.getpackets(pid)\n",
    "    #print respacket\n",
    "    if len(respacket):\n",
    "        if (respacket[0]['packet'] == packet).all():\n",
    "            print i,\n",
    "            #print hex(pid[0])\n",
    "        else:\n",
    "            print '#',\n",
    "            break\n",
    "    else:\n",
    "        print '@',\n",
    "        print packet\n",
    "        break\n",
    "        "
   ]
  },
  {
   "cell_type": "code",
   "execution_count": 40,
   "metadata": {
    "collapsed": false
   },
   "outputs": [
    {
     "name": "stdout",
     "output_type": "stream",
     "text": [
      "@\n"
     ]
    }
   ],
   "source": [
    "import numpy as np\n",
    "from random import randrange\n",
    "base = 64\n",
    "keysize = 256\n",
    "\n",
    "error = 10\n",
    "watchdog = 0\n",
    "for i in range(100):\n",
    "    #print '###############################'\n",
    "    pid = []\n",
    "    packet = np.array([randrange(2**base) for j in range (6*keysize/base)], dtype=np.uint64)\n",
    "    packetid = (int(packet[0]) >> 48) & 0xFFFF\n",
    "    pid.append(packetid)\n",
    "    packet[0] = (int(packet[0]) & 0xFFFFFFFFFFFFFF00) ^ 0xAE\n",
    "    Cluster.sendpackets(packet, source=0x0000, sink=0x004)\n",
    "    time.sleep(0.01)\n",
    "    respacket = Cluster.getpackets(pid)\n",
    "    #print respacket\n",
    "    if len(respacket):\n",
    "        if (respacket[0]['packet'] == packet).all():\n",
    "            print i,\n",
    "            #print hex(pid[0])\n",
    "        else:\n",
    "            print '#',\n",
    "            break\n",
    "    else:\n",
    "        print '@',\n",
    "        break\n",
    "        "
   ]
  },
  {
   "cell_type": "code",
   "execution_count": null,
   "metadata": {
    "collapsed": true
   },
   "outputs": [],
   "source": []
  }
 ],
 "metadata": {
  "kernelspec": {
   "display_name": "Python 2",
   "language": "python",
   "name": "python2"
  },
  "language_info": {
   "codemirror_mode": {
    "name": "ipython",
    "version": 2
   },
   "file_extension": ".py",
   "mimetype": "text/x-python",
   "name": "python",
   "nbconvert_exporter": "python",
   "pygments_lexer": "ipython2",
   "version": "2.7.10"
  }
 },
 "nbformat": 4,
 "nbformat_minor": 0
}
