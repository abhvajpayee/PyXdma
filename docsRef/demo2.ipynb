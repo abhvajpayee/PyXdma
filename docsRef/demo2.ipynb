{
 "cells": [
  {
   "cell_type": "code",
   "execution_count": 36,
   "metadata": {
    "collapsed": false
   },
   "outputs": [
    {
     "name": "stdout",
     "output_type": "stream",
     "text": [
      "PCI Initialized\n",
      "BAR0 Size: 0x10000\n",
      "BAR1 Size: 0x100000\n",
      "pci_status : 0xffffffffffd658feL\n",
      "pci_command : 0xffffffff000000feL\n",
      "pci_status : 0xffd65800L\n",
      "pci_command : 0x100100L\n",
      "setting node 0 with address : 0\n",
      "setting node 1 with address : 4\n",
      "setting node 2 with address : 8\n",
      "setting node 3 with address : 12\n",
      "PCI Initialized\n",
      "BAR0 Size: 0x10000\n",
      "BAR1 Size: 0x100000\n",
      "pci_status : 0xffffffffffd813feL\n",
      "pci_command : 0xffffffff000000feL\n",
      "pci_status : 0xffd81300L\n",
      "pci_command : 0x100100L\n",
      "setting node 0 with address : 0\n",
      "setting node 1 with address : 4\n",
      "setting node 2 with address : 8\n",
      "setting node 3 with address : 12\n",
      "setting node 0 with address : 0\n",
      "setting node 1 with address : 4\n",
      "setting node 2 with address : 8\n",
      "setting node 3 with address : 12\n",
      "setting node 0 with address : 0\n",
      "setting node 1 with address : 4\n",
      "setting node 2 with address : 8\n",
      "setting node 3 with address : 12\n",
      "setting node 0 with address : 0\n",
      "setting node 1 with address : 4\n",
      "setting node 2 with address : 8\n",
      "setting node 3 with address : 12\n",
      "setting node 0 with address : 0\n",
      "setting node 1 with address : 4\n",
      "setting node 2 with address : 8\n",
      "setting node 3 with address : 12\n",
      "setting node 0 with address : 0\n",
      "setting node 1 with address : 4\n",
      "setting node 2 with address : 8\n",
      "setting node 3 with address : 12\n"
     ]
    }
   ],
   "source": [
    "%reload_ext autoreload\n",
    "%autoreload 2\n",
    "import encryptgui\n",
    "\n",
    "encryptgui.FPGAGUI()"
   ]
  },
  {
   "cell_type": "code",
   "execution_count": null,
   "metadata": {
    "collapsed": true
   },
   "outputs": [],
   "source": []
  }
 ],
 "metadata": {
  "kernelspec": {
   "display_name": "Python 2",
   "language": "python",
   "name": "python2"
  },
  "language_info": {
   "codemirror_mode": {
    "name": "ipython",
    "version": 2
   },
   "file_extension": ".py",
   "mimetype": "text/x-python",
   "name": "python",
   "nbconvert_exporter": "python",
   "pygments_lexer": "ipython2",
   "version": "2.7.10"
  }
 },
 "nbformat": 4,
 "nbformat_minor": 0
}
