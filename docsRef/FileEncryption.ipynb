{
 "cells": [
  {
   "cell_type": "code",
   "execution_count": 2,
   "metadata": {
    "collapsed": false
   },
   "outputs": [],
   "source": [
    "%reload_ext autoreload\n",
    "%autoreload 2\n",
    "import numpy as np\n",
    "from Crypto.Cipher import AES\n",
    "import base64\n",
    "import datetime\n",
    "import aescore\n",
    "import cluster\n",
    "import time\n",
    "\n",
    "np.set_printoptions(formatter={'int':hex})\n",
    "\n",
    "def encrypt(key, data):    \n",
    "    mode = AES.MODE_ECB\n",
    "    aes = AES.new(key, mode)\n",
    "    aes.use_aesni=True\n",
    "    #crypto = aes.encrypt(data)\n",
    "    #print np.frombuffer(crypto, dtype=np.uint64)\n",
    "    #data = np.frombuffer(data, dtype=np.uint64)\n",
    "    crypto = aes.encrypt(data)\n",
    "    #print np.frombuffer(crypto, dtype=np.uint64)\n",
    "    #print np.getbuffer(data)\n",
    "    #print data\n",
    "    return base64.b64encode(crypto)\n",
    "\n",
    "def dencrypt(key, cryptdata):    \n",
    "    mode = AES.MODE_ECB\n",
    "    aes = AES.new(key, mode)\n",
    "    aes.use_aesni=True\n",
    "    #crypto = aes.encrypt(data)\n",
    "    #print np.frombuffer(crypto, dtype=np.uint64)\n",
    "    #data = np.frombuffer(data, dtype=np.uint64)\n",
    "    crypto = aes.decrypt(cryptdata)\n",
    "    #print np.frombuffer(crypto, dtype=np.uint64)\n",
    "    #print np.getbuffer(data)\n",
    "    #print data\n",
    "    return base64.b64encode(crypto)\n",
    "\n",
    "def encryptfile(key, fname='files/test.txt'):\n",
    "    t1 = datetime.datetime.now()\n",
    "    data = np.fromfile(fname, dtype=np.uint64)  \n",
    "    t2 = datetime.datetime.now()\n",
    "    mode = AES.MODE_ECB\n",
    "    aes = AES.new(key, mode)\n",
    "    aes.use_aesni=True\n",
    "    \n",
    "    #print data\n",
    "    for i in range(len(data)/2):\n",
    "        data[2*i:2*(i+1)] = np.frombuffer(aes.encrypt(data[2*i:(2*i)+2]), dtype=np.uint64)\n",
    "    \n",
    "    t3 = datetime.datetime.now()\n",
    "    #print data\n",
    "    \n",
    "    data.tofile(fname+'.enc')\n",
    "    t4 = datetime.datetime.now()\n",
    "    \n",
    "    t5 = t2-t1\n",
    "    t6 = t3-t2\n",
    "    t7 = t4-t3\n",
    "    print \"\\nFile Read time: %s seconds\" % (t5.total_seconds())\n",
    "    print \"\\nEncryption time: %s seconds\" % (t6.total_seconds())\n",
    "    print \"\\nFile Write time: %s seconds\" % (t7.total_seconds())\n",
    "    #with open(fname+'.enc', 'wb') as f:\n",
    "    #    f.write(base64.b64encode(data))\n",
    "    return\n",
    "\n",
    "\n",
    "def fpgaencryptfile(key, Cluster, fname='files/test.txt'):\n",
    "    t1 = datetime.datetime.now()\n",
    "    data = np.fromfile(fname, dtype=np.uint64)  \n",
    "    t2 = datetime.datetime.now()\n",
    "\n",
    "    mode = AES.MODE_ECB\n",
    "    aes = AES.new(key, mode)\n",
    "    aes.use_aesni=True\n",
    "    N = 16\n",
    "    print data\n",
    "    fpgadata = np.array([], dtype=np.uint64)\n",
    "    for i in range(len(data)/(2*N)):\n",
    "        packetid0, databuff0 = aescore.burst_singlekey(key, data[N*i:N*(i+1)])\n",
    "        #packetid1, databuff1 = aescore.burst_singlekey(key, data[N*(i+1):N*(i+2)])\n",
    "        #softencdata = np.frombuffer(aes.encrypt(data[N*i:N*(i+1)]), dtype=np.uint64)\n",
    "        #packetid1, databuff1 = aescore.burst_singlekey(key, data[N*(i+1):N*(i+2)])\n",
    "        #print packetid, databuff\n",
    "        if i%2:\n",
    "            Cluster.sendpackets(databuff0, source=0x0000, sink=0x0001)\n",
    "        else:\n",
    "            Cluster.sendpackets(databuff0, source=0x0000, sink=0x0002)\n",
    "        #Cluster.sendpackets(databuff1, source=0x0000, sink=0x0002)\n",
    "        for j in range(10):\n",
    "            time.sleep(1/10)\n",
    "            retbuff = Cluster.getpackets([packetid0])\n",
    "            if len(retbuff):\n",
    "                fpgadata = np.append(fpgadata, retbuff[0]['packet'][1:])\n",
    "                #data[N*i:N*(i+1)] = fpgadata\n",
    "                print '##################'\n",
    "                #print softencdata \n",
    "                print retbuff[0]['packet'] #retbuff[1]['packet']\n",
    "                break\n",
    "    print fpgadata\n",
    "    \n",
    "    t3 = datetime.datetime.now()\n",
    "    #print data\n",
    "    \n",
    "    fpgadata.tofile(fname+'.enc')\n",
    "    t4 = datetime.datetime.now()\n",
    "    \n",
    "    t5 = t2-t1\n",
    "    t6 = t3-t2\n",
    "    t7 = t4-t3\n",
    "    print \"\\nFile Read time: %s seconds\" % (t5.total_seconds())\n",
    "    print \"\\nEncryption time: %s seconds\" % (t6.total_seconds())\n",
    "    print \"\\nFile Write time: %s seconds\" % (t7.total_seconds())\n",
    "    #with open(fname+'.enc', 'wb') as f:\n",
    "    #    f.write(base64.b64encode(data))\n",
    "    return\n",
    "\n",
    "def fpgaencryptfile1(key, Cluster, fname='files/test.txt'):\n",
    "    t1 = datetime.datetime.now()\n",
    "    data = np.fromfile(fname, dtype=np.uint64) \n",
    "    N = 32\n",
    "    M = 2\n",
    "    #print data\n",
    "    fpgadata = np.array([], dtype=np.uint64)\n",
    "    pad =  np.append(np.array([N - len(data)%N], dtype=np.uint64),\n",
    "                     np.zeros(N - len(data)%N + M*N -1, dtype=np.uint64))\n",
    "    data = np.append(data, pad) \n",
    "    t2 = datetime.datetime.now()\n",
    "    #print data\n",
    "    \n",
    "    packetid = []\n",
    "    databuff = []\n",
    "    for i in range(len(data)/N):\n",
    "        pktid, databuff = aescore.burst_singlekey(key, data[N*i:N*(i+1)])\n",
    "        packetid.append(pktid)\n",
    "        if i%2:\n",
    "            Cluster.sendpackets(databuff, source=0x0000, sink=0x0001)\n",
    "        else:\n",
    "            Cluster.sendpackets(databuff, source=0x0000, sink=0x0002)\n",
    "        #print packetid\n",
    "        for j in range(10):\n",
    "            #time.sleep(1/50)\n",
    "            retbuff = Cluster.getpackets([pktid])\n",
    "            #print retbuff\n",
    "            for i in retbuff:\n",
    "                packetid.remove(i['packetid'])\n",
    "                fpgadata = np.append(fpgadata, i['packet'][1:])\n",
    "                #print '#',\n",
    "                #print softencdata \n",
    "                #print retbuff[0]['packet'] #retbuff[1]['packet']\n",
    "            if len(packetid) == 0:\n",
    "                break\n",
    "    \n",
    "    t3 = datetime.datetime.now()\n",
    "    #print data\n",
    "    \n",
    "    fpgadata.tofile(fname+'.enc')\n",
    "    t4 = datetime.datetime.now()\n",
    "    \n",
    "    t5 = t2-t1\n",
    "    t6 = t3-t2\n",
    "    t7 = t4-t3\n",
    "    print \"\\nFile Read time: %s seconds\" % (t5.total_seconds())\n",
    "    print \"\\nEncryption time: %s seconds\" % (t6.total_seconds())\n",
    "    print \"\\nFile Write time: %s seconds\" % (t7.total_seconds())\n",
    "    #with open(fname+'.enc', 'wb') as f:\n",
    "    #    f.write(base64.b64encode(data))\n",
    "    return\n",
    "\n",
    "\n",
    "def decryptfile(key, fname='files/test.txt.enc'):\n",
    "    t1 = datetime.datetime.now()\n",
    "    data = np.fromfile(fname, dtype=np.uint64)  \n",
    "    t2 = datetime.datetime.now()\n",
    "    mode = AES.MODE_ECB\n",
    "    aes = AES.new(key, mode)\n",
    "    aes.use_aesni=True\n",
    "    \n",
    "    #print data\n",
    "    for i in range(len(data)/2):\n",
    "        data[2*i:2*(i+1)] = np.frombuffer(aes.decrypt(data[2*i:(2*i)+2]), dtype=np.uint64)\n",
    "    \n",
    "    t3 = datetime.datetime.now()\n",
    "    #print data\n",
    "    #print len(data)\n",
    "    padsize = 0\n",
    "    padindex = 0\n",
    "    for index,value in enumerate(reversed(data)):\n",
    "        if value != 0:\n",
    "            #print index,value\n",
    "            padsize = value\n",
    "            padindex = index\n",
    "            break\n",
    "    data = data[:-padindex-1]\n",
    "    #print data\n",
    "    \n",
    "    \n",
    "    data.tofile(fname+'.dec')\n",
    "    t4 = datetime.datetime.now()\n",
    "    \n",
    "    t5 = t2-t1\n",
    "    t6 = t3-t2\n",
    "    t7 = t4-t3\n",
    "    print \"\\nFile Read time: %s seconds\" % (t5.total_seconds())\n",
    "    print \"\\nDecryption time: %s seconds\" % (t6.total_seconds())\n",
    "    print \"\\nFile Write time: %s seconds\" % (t7.total_seconds())\n",
    "    return\n",
    "\n",
    "def comparefile(origfile, newfile):\n",
    "    data0 = np.fromfile(origfile, dtype=np.uint64)\n",
    "    data1 = np.fromfile(newfile, dtype=np.uint64)\n",
    "    print len(data0), len(data1)\n",
    "    i = 0\n",
    "    for j, k in zip(data0, data1):\n",
    "        if j != k:\n",
    "            print i, j, k\n",
    "        i += 1\n",
    "    return"
   ]
  },
  {
   "cell_type": "code",
   "execution_count": 3,
   "metadata": {
    "collapsed": false
   },
   "outputs": [],
   "source": [
    "#comparefile('files/test.pdf', 'files/test.pdf.enc.dec.pdf')"
   ]
  },
  {
   "cell_type": "code",
   "execution_count": 4,
   "metadata": {
    "collapsed": false
   },
   "outputs": [
    {
     "name": "stdout",
     "output_type": "stream",
     "text": [
      "PCI is being Initialized....\n",
      "PCI Initialized\n",
      "BAR0 Size: 0x10000\n",
      "BAR1 Size: 0x100000\n",
      "pci_status : 0xffffffff001001feL\n",
      "pci_command : 0xffffffff000000feL\n",
      "pci_status : 0x100100L\n",
      "pci_command : 0x100100L\n",
      "setting node 0 with address : 0\n",
      "\n",
      "File Read time: 0.00113 seconds\n",
      "\n",
      "Encryption time: 56.317311 seconds\n",
      "\n",
      "File Write time: 0.000707 seconds\n"
     ]
    }
   ],
   "source": [
    "Cluster = cluster.cluster()\n",
    "Cluster.conf(1)\n",
    "\n",
    "key = np.array([0x0000000000000000, 0x0000000000000000, 0x0000000000000000, 0x0000000000000000], dtype=np.uint64) \n",
    "fpgaencryptfile1(key, Cluster, fname='files/flower.png')"
   ]
  },
  {
   "cell_type": "code",
   "execution_count": 6,
   "metadata": {
    "collapsed": false
   },
   "outputs": [
    {
     "name": "stdout",
     "output_type": "stream",
     "text": [
      "\n",
      "File Read time: 0.000405 seconds\n",
      "\n",
      "Decryption time: 0.157074 seconds\n",
      "\n",
      "File Write time: 0.000924 seconds\n"
     ]
    }
   ],
   "source": [
    "decryptfile(key, fname='files/flower.png.enc')"
   ]
  },
  {
   "cell_type": "code",
   "execution_count": null,
   "metadata": {
    "collapsed": false
   },
   "outputs": [],
   "source": [
    "key = np.array([0x0000000000000000, 0x0000000000000000, 0x0000000000000000, 0x0000000000000000], dtype=np.uint64) \n",
    "encryptfile(key, fname='files/big_buck_bunny_480p_h264.mov')"
   ]
  },
  {
   "cell_type": "code",
   "execution_count": 37,
   "metadata": {
    "collapsed": false
   },
   "outputs": [
    {
     "name": "stdout",
     "output_type": "stream",
     "text": [
      "\n",
      "File Read time: 0.08067 seconds\n",
      "\n",
      "Decryption time: 48.573275 seconds\n",
      "\n",
      "File Write time: 0.151388 seconds\n"
     ]
    }
   ],
   "source": [
    "decryptfile(key, fname='files/big_buck_bunny_480p_h264.mov.enc')"
   ]
  },
  {
   "cell_type": "code",
   "execution_count": 53,
   "metadata": {
    "collapsed": false
   },
   "outputs": [
    {
     "name": "stdout",
     "output_type": "stream",
     "text": [
      "[0x2000000L 0x0L 0x0L 0x0L 0x0L 0x0L 0x0L 0x0L 0x0L]\n"
     ]
    }
   ],
   "source": [
    "a = np.array([0x00000000002000000], dtype=np.uint64) \n",
    "b = np.array([0x0000000000000000, 0x0000000000000000, 0x0000000000000000, 0x0000000000000000], dtype=np.uint64) \n",
    "c = np.array([0x0000000000000000, 0x0000000000000000, 0x0000000000000000, 0x0000000000000000], dtype=np.uint64) \n",
    "print np.append(a, [b, c])"
   ]
  },
  {
   "cell_type": "code",
   "execution_count": null,
   "metadata": {
    "collapsed": true
   },
   "outputs": [],
   "source": []
  }
 ],
 "metadata": {
  "kernelspec": {
   "display_name": "Python 2",
   "language": "python",
   "name": "python2"
  },
  "language_info": {
   "codemirror_mode": {
    "name": "ipython",
    "version": 2
   },
   "file_extension": ".py",
   "mimetype": "text/x-python",
   "name": "python",
   "nbconvert_exporter": "python",
   "pygments_lexer": "ipython2",
   "version": "2.7.10"
  }
 },
 "nbformat": 4,
 "nbformat_minor": 0
}
