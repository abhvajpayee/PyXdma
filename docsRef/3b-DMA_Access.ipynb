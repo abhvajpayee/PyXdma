{
 "cells": [
  {
   "cell_type": "code",
   "execution_count": 2,
   "metadata": {},
   "outputs": [],
   "source": [
    "%reload_ext autoreload\n",
    "%autoreload 2\n",
    "import sys, os\n",
    "sys.path.insert(0, os.path.abspath('../'))\n",
    "import os\n",
    "import time\n",
    "\n",
    "import numpy as np\n",
    "\n",
    "np.set_printoptions(formatter={'int':hex})\n",
    "\n",
    "from PyPci import pci\n",
    "dev = pci.pci()\n",
    "#####################################################################\n",
    "\n",
    "LEN       = 128*32     #128*n = n KB\n",
    "ADDR      = 0x000"
   ]
  },
  {
   "cell_type": "code",
   "execution_count": null,
   "metadata": {},
   "outputs": [],
   "source": [
    "dev.rstBAR(0)\n",
    "#dev.rstBAR(1)"
   ]
  },
  {
   "cell_type": "code",
   "execution_count": null,
   "metadata": {
    "collapsed": true
   },
   "outputs": [],
   "source": [
    "#data  = np.random.randint(0,0xfffffffffffffff,LEN)\n",
    "#data = np.arange(LEN, dtype=np.uint8)\n",
    "#data = np.frombuffer(data.tobytes(), dtype=np.uint64)\n",
    "#data1 = (data.astype(np.uint64)) << 4\n",
    "#dataDIO = ((data1 & 0x000000000000) | 0x0000000000000000)\n",
    "#dataDMA = ((data1 & 0x000000000000) | 0x6666777788889999)\n",
    "\n",
    "def task_writeDIO(addr, data):\n",
    "    dev.write(data, addr)\n",
    "    \n",
    "def task_readDIO(addr, length):\n",
    "    data2 = dev.read(addr, length)\n",
    "    for i in range (length):\n",
    "        print hex(i), \"\\t:\", hex(data2[i])\n",
    "        \n",
    "def task_writeDMA():\n",
    "    dev.writeDMA(data1, 0x00)\n",
    "    \n",
    "def task_readDMA(length, add_ptr):\n",
    "    data3 = dev.readDMA(length, add_ptr)\n",
    "    print data3\n",
    "    #for i in range (0,length):\n",
    "    #    print hex(i), \"\\t:\", hex(data3[i]), hex(data1[i])\n",
    "    #if (data1 == data3).all():\n",
    "    #    print 'Matched'\n",
    "task_readDMA(100, 0)\n",
    "task_readDIO(0, 1)"
   ]
  },
  {
   "cell_type": "code",
   "execution_count": 6,
   "metadata": {},
   "outputs": [
    {
     "name": "stdout",
     "output_type": "stream",
     "text": [
      "Overwriting cluster.py\n"
     ]
    }
   ],
   "source": [
    "%%writefile cluster.py\n",
    "from PyPci import pci\n",
    "import numpy as np\n",
    "from PyPci import pci\n",
    "import time\n",
    "np.set_printoptions(formatter={'int':hex})\n",
    "\n",
    "class fifo:\n",
    "    def __init__(self):\n",
    "        self.dev = pci.pci()\n",
    "        self.sendptr = 1\n",
    "        self.recieveptr = 1\n",
    "        pci_command = np.array([0xFFFFFFFF000000FE], dtype=np.uint64)\n",
    "        self.dev.write(pci_command, 0x00)\n",
    "        pci_status = self.dev.read(0x00, 1)\n",
    "        print 'pci_status :', hex(pci_status)\n",
    "        print 'pci_command :', hex(pci_command)\n",
    "        pci_command = np.array([(self.recieveptr << 20) ^ (self.sendptr << 8)], dtype=np.uint64)\n",
    "        self.dev.write(pci_command, 0x00)\n",
    "        pci_status = self.dev.read(0x00, 1)\n",
    "        print 'pci_status :', hex(pci_status)\n",
    "        print 'pci_command :', hex(pci_command)\n",
    "        return\n",
    "    \n",
    "    def reset():\n",
    "        self.sendptr = 1\n",
    "        self.recieveptr = 1\n",
    "        pci_command = np.array([0xFFFFFFFF000000FE], dtype=np.uint64)\n",
    "        self.dev.write(pci_command, 0x00)\n",
    "        pci_status = self.dev.read(0x00, 1)\n",
    "        print 'pci_status :', hex(pci_status)\n",
    "        print 'pci_command :', hex(pci_command)\n",
    "        pci_command = np.array([(self.recieveptr << 20) ^ (self.sendptr << 8)], dtype=np.uint64)\n",
    "        self.dev.write(pci_command, 0x00)\n",
    "        pci_status = self.dev.read(0x00, 1)\n",
    "        print 'pci_status :', hex(pci_status)\n",
    "        print 'pci_command :', hex(pci_command)\n",
    "        return 0\n",
    "    \n",
    "    def send_packet(self, packet):\n",
    "        #print '>>>'\n",
    "        #print packet\n",
    "        pci_status = self.dev.read(0x00, 1)\n",
    "        pciptr = (int(pci_status[0]) & 0x00000000FFF00000) >> 20\n",
    "        fifoptr = (int(pci_status[0]) & 0x00000000000FFF00) >> 8\n",
    "        #print 'recieveptr:', hex(self.recieveptr), 'sendptr:', hex(self.sendptr)\n",
    "        #print 'pciptr:', hex(pciptr), 'fifoptr:', hex(fifoptr)\n",
    "        ##\n",
    "        ## Some issue with the fifo implemented on the pci side in cluster\n",
    "        ##\n",
    "        endptr = self.sendptr + packet.size\n",
    "        #thresh = 0xFFF - self.sendptr\n",
    "        #print '$', hex(endptr)\n",
    "        if endptr > 0xFFF:\n",
    "            partpacket0 = packet[:(0x1000 -self.sendptr)]\n",
    "            partpacket1 = packet[(0x1000 -self.sendptr):]\n",
    "            self.dev.writeDMA(partpacket0, self.sendptr)\n",
    "            self.dev.writeDMA(partpacket1, 1)\n",
    "            self.sendptr = (self.sendptr + packet.size + 1)& 0x1FFF\n",
    "        else:            \n",
    "            self.dev.writeDMA(packet, self.sendptr)\n",
    "            self.sendptr = (self.sendptr + packet.size)& 0x1FFF\n",
    "            \n",
    "        if pciptr < self.sendptr:\n",
    "            self.sendptr = self.sendptr & 0xFFF\n",
    "        pci_command = np.array([((self.recieveptr& 0xFFF) << 20) ^ ((self.sendptr& 0xFFF) << 8)], dtype=np.uint64)\n",
    "        self.dev.write(pci_command, 0x00)\n",
    "        #print 'recieveptr:', hex(self.recieveptr), 'sendptr:', hex(self.sendptr)\n",
    "        #print 'pciptr:', hex(pciptr), 'fifoptr:', hex(fifoptr)\n",
    "        return 0\n",
    "    \n",
    "    def recieve_packet(self):        \n",
    "        data = np.array([], dtype=np.uint64)\n",
    "        pci_status = self.dev.read(0x00, 1)\n",
    "        pciptr = (int(pci_status[0]) & 0x00000000FFF00000) >> 20\n",
    "        fifoptr = (int(pci_status[0]) & 0x00000000000FFF00) >> 8\n",
    "        data = np.array([], dtype=np.uint64)\n",
    "        #print 'recieveptr:', hex(self.recieveptr), 'sendptr:', hex(self.sendptr)\n",
    "        #print 'pciptr:', hex(pciptr), 'fifoptr:', hex(fifoptr)\n",
    "        #print hex(pci_status)\n",
    "        while 1:\n",
    "            if fifoptr < self.recieveptr:\n",
    "                buffsize = 0x1000 - self.recieveptr\n",
    "            else:\n",
    "                buffsize = fifoptr - self.recieveptr\n",
    "            #print '<<', hex(buffsize), hex(self.recieveptr) \n",
    "            if buffsize:\n",
    "                data = np.append(data, self.dev.readDMA(buffsize, self.recieveptr))\n",
    "                self.recieveptr = (self.recieveptr + buffsize) & 0xFFF\n",
    "                if self.recieveptr == 0:\n",
    "                    self.recieveptr = 1\n",
    "            else:\n",
    "                break\n",
    "            \n",
    "        pci_command = np.array([((self.recieveptr& 0xFFF) << 20) ^ ((self.sendptr& 0xFFF) << 8)], dtype=np.uint64)\n",
    "        self.dev.write(pci_command, 0x00)\n",
    "        #print 'recieveptr:', hex(self.recieveptr), 'sendptr:', hex(self.sendptr)\n",
    "        #print 'pciptr:', hex(pciptr), 'fifoptr:', hex(fifoptr)\n",
    "        return data\n",
    "    \n",
    "    \n",
    "class cluster:\n",
    "    def __init__(self):\n",
    "        self.Fifo = fifo()\n",
    "        self.queue = []\n",
    "        self.olddata = np.array([], dtype=np.uint64)\n",
    "        self.nodes = 0\n",
    "        return\n",
    "    \n",
    "    def reset(self):\n",
    "        self.Fifo.reset\n",
    "        self.queue = []\n",
    "        self.olddata = np.array([], dtype=np.uint64)\n",
    "        self.nodes = 0\n",
    "        return 0\n",
    "        \n",
    "    def conf(self, nodes):\n",
    "        self.nodes = nodes\n",
    "        for i in range(self.nodes):\n",
    "            #self.reset_node(0xFFFF)\n",
    "            #time.sleep(1)\n",
    "            print 'setting node %d with address : %d' %(i, i*4)\n",
    "            self.set_node_address(0xFFFF, i*4 & 0xFFFF)\n",
    "            #time.sleep(1)\n",
    "            \n",
    "    \n",
    "    def encapsulate_packet(self, source, sink, packet, timeout):\n",
    "        return np.insert(packet, 0, 0xFF ^ sink << 8 ^ source << 24 ^ len(packet) << 40 ^ timeout << 56 ^ 0xF << 60)\n",
    "    \n",
    "    def reset_node(self, node_index):\n",
    "        rst_packet = np.array([0xf400010000FFFFFF, 0xFFFFFFFFFFFFFFFF, 0, 0, 0, 0, 0, 0, 0, 0, 0, 0, 0, 0], dtype=np.uint64)\n",
    "        rst_packet[0] = (int(rst_packet[0]) & 0xFFFFFFFFFF0000FF) ^ (node_index << 8)\n",
    "        #print rst_packet\n",
    "        self.Fifo.send_packet(rst_packet)\n",
    "        self.queue = []\n",
    "        return 0\n",
    "    \n",
    "    def set_node_address(self, node_index, new_node_index):\n",
    "        set_packet = np.array([0xf400010000FFFFFF, 0x000000000000AADD, 0, 0, 0, 0, 0, 0, 0, 0, 0, 0, 0, 0], dtype=np.uint64)\n",
    "        set_packet[0] = (int(set_packet[0]) & 0xFFFFFFFFFF0000FF) ^ (node_index << 8)\n",
    "        set_packet[1] = (int(set_packet[1]) & 0xFFFFFFFF0000FFFF) ^ (new_node_index << 16)\n",
    "        #print set_packet\n",
    "        self.Fifo.send_packet(set_packet)\n",
    "        return 0\n",
    "    \n",
    "    def sendpackets(self, packet, source=0xFFFC, sink=0xFFFF):\n",
    "        zeros = np.zeros((10,), dtype=np.uint64)\n",
    "        buff = self.encapsulate_packet(source, sink, packet, 0x08)\n",
    "        #print buff\n",
    "        self.Fifo.send_packet(np.append(buff, zeros))\n",
    "        #print buff\n",
    "        return 0\n",
    "    \n",
    "    def getheader(self, packet):\n",
    "        for i in range(packet.size):\n",
    "            if (int(packet[i]) & 0xFF) == 0xFF:\n",
    "                source   = (int(packet[i])   & 0xFFFF000000) >> 24\n",
    "                sink     = (int(packet[i])   & 0xFFFF00) >> 8\n",
    "                size     = (int(packet[i])   & 0xFFFF0000000000) >> 40\n",
    "                packetid = (int(packet[i+1]) & 0xFFFF000000000000) >> 48\n",
    "                #print 'packetid:', packetid\n",
    "                #print 'size:', size\n",
    "                #print 'packet.size:', packet.size\n",
    "                if size < packet.size - 1:\n",
    "                    return i+1, size, sink, source, packetid\n",
    "                else:\n",
    "                    return packet.size, 0, 0, 0, 0\n",
    "        return packet.size, 0, 0, 0, 0\n",
    "    \n",
    "    def getpackets(self, idlist):\n",
    "        data = np.append(self.olddata, self.Fifo.recieve_packet())\n",
    "        #print '#######'\n",
    "        #print data\n",
    "        #print '#######'\n",
    "        packets = []\n",
    "        #print data.size\n",
    "        pktptr = 0\n",
    "        while pktptr < data.size:\n",
    "            #print pktptr, data.size\n",
    "            i, size, sink, source, packetid = self.getheader(data[pktptr:])\n",
    "            #print i, size, hex(sink), hex(source), hex(packetid)\n",
    "            if size:\n",
    "                pkt = np.copy(data[pktptr+i:pktptr+i+size])\n",
    "                element = {'size':size, 'sink': sink, 'source':source, 'packetid':packetid, \n",
    "                           'packet':pkt}\n",
    "                self.queue.append(element)\n",
    "                pktptr = pktptr+i+size\n",
    "            else:\n",
    "                break\n",
    "        self.olddata = data[pktptr:]\n",
    "        #print self.queue    \n",
    "        for i in idlist:\n",
    "            try:\n",
    "                e = (item for item in self.queue if item['packetid'] == i).next()\n",
    "                element = {'size':e['size'], 'sink': e['sink'], 'source':e['source'], 'packetid':e['packetid'], \n",
    "                           'packet':e['packet']}\n",
    "                packets.append(element)\n",
    "                #print i, element\n",
    "                self.queue.remove(e)\n",
    "            except StopIteration:\n",
    "                #print \"packetid not found !!\"\n",
    "                pass\n",
    "            #print packets\n",
    "        return packets\n",
    "        "
   ]
  },
  {
   "cell_type": "code",
   "execution_count": 5,
   "metadata": {},
   "outputs": [
    {
     "ename": "NameError",
     "evalue": "name 'Cluster' is not defined",
     "output_type": "error",
     "traceback": [
      "\u001b[1;31m---------------------------------------------------------------------------\u001b[0m",
      "\u001b[1;31mNameError\u001b[0m                                 Traceback (most recent call last)",
      "\u001b[1;32m<ipython-input-5-e57745a8991b>\u001b[0m in \u001b[0;36m<module>\u001b[1;34m()\u001b[0m\n\u001b[1;32m----> 1\u001b[1;33m \u001b[0mrespacket\u001b[0m \u001b[1;33m=\u001b[0m \u001b[0mCluster\u001b[0m\u001b[1;33m.\u001b[0m\u001b[0mgetpackets\u001b[0m\u001b[1;33m(\u001b[0m\u001b[0mpid\u001b[0m\u001b[1;33m)\u001b[0m\u001b[1;33m\u001b[0m\u001b[0m\n\u001b[0m\u001b[0;32m      2\u001b[0m \u001b[1;32mprint\u001b[0m \u001b[0mpacket\u001b[0m\u001b[1;33m\u001b[0m\u001b[0m\n\u001b[0;32m      3\u001b[0m \u001b[1;32mprint\u001b[0m \u001b[0mrespacket\u001b[0m\u001b[1;33m\u001b[0m\u001b[0m\n\u001b[0;32m      4\u001b[0m \u001b[1;32mfor\u001b[0m \u001b[0mi\u001b[0m \u001b[1;32min\u001b[0m \u001b[0mrespacket\u001b[0m\u001b[1;33m:\u001b[0m\u001b[1;33m\u001b[0m\u001b[0m\n\u001b[0;32m      5\u001b[0m     \u001b[1;32mprint\u001b[0m \u001b[0mi\u001b[0m\u001b[1;33m[\u001b[0m\u001b[1;34m'packetid'\u001b[0m\u001b[1;33m]\u001b[0m\u001b[1;33m\u001b[0m\u001b[0m\n",
      "\u001b[1;31mNameError\u001b[0m: name 'Cluster' is not defined"
     ]
    }
   ],
   "source": [
    "respacket = Cluster.getpackets(pid)\n",
    "print packet\n",
    "print respacket\n",
    "for i in respacket:\n",
    "    print i['packetid']\n",
    "print pid"
   ]
  },
  {
   "cell_type": "code",
   "execution_count": 7,
   "metadata": {},
   "outputs": [
    {
     "name": "stdout",
     "output_type": "stream",
     "text": [
      "PCI is being Initialized....\n",
      "PCI Initialized\n",
      "BAR0 Size: 0x10000\n",
      "BAR1 Size: 0x100000\n",
      "pci_status : 0xffffffffa1a011feL\n",
      "pci_command : 0xffffffff000000feL\n",
      "pci_status : 0xa1a01100L\n",
      "pci_command : 0x100100L\n",
      "setting node 0 with address : 0\n",
      "setting node 1 with address : 4\n",
      "setting node 2 with address : 8\n",
      "setting node 3 with address : 12\n"
     ]
    }
   ],
   "source": [
    "%reload_ext autoreload\n",
    "%autoreload 2\n",
    "import numpy as np\n",
    "np.set_printoptions(formatter={'int':hex})\n",
    "\n",
    "\n",
    "import cluster\n",
    "import aescore\n",
    "import time\n",
    "\n",
    "Cluster = cluster.cluster()\n",
    "Cluster.conf(4)"
   ]
  },
  {
   "cell_type": "code",
   "execution_count": 10,
   "metadata": {},
   "outputs": [
    {
     "name": "stdout",
     "output_type": "stream",
     "text": [
      "encryption is correct\n",
      "[0x59c96e9d1e883e30L 0xda6f18162e29da75L 0x2006f65a1a636dfeL\n",
      " 0xb622f11fef54ca2L 0x553699436d999eb9L 0x258b6ef3ff206942L\n",
      " 0xea450880ef0073f8L 0xe7af89293edb6554L 0xb1ab2e8d34e44e21L\n",
      " 0x13656b6013ca358aL 0x134322a86bad83c6L 0x18bd81f0d4a35efdL\n",
      " 0x29ab1bbec8eaabe8L 0xc752924b4803bc5bL 0x60c4e356a6fedb3aL 0x0L]\n",
      "[0x59c96e9d1e883e30L 0xda6f18162e29da75L 0x2006f65a1a636dfeL\n",
      " 0xb622f11fef54ca2L 0xc9b483a8d9cd1c4bL 0x553699436d999eb9L\n",
      " 0x258b6ef3ff206942L 0xea450880ef0073f8L 0xe7af89293edb6554L\n",
      " 0xb1ab2e8d34e44e21L 0x13656b6013ca358aL 0x134322a86bad83c6L\n",
      " 0x18bd81f0d4a35efdL 0x29ab1bbec8eaabe8L 0xc752924b4803bc5bL\n",
      " 0x60c4e356a6fedb3aL]\n",
      "@ 1 @\n",
      "encryption is correct\n",
      "encryption is correct\n",
      "encryption is correct\n",
      "encryption is correct\n",
      "encryption is correct\n",
      "encryption is correct\n",
      "encryption is correct\n",
      "encryption is correct\n"
     ]
    }
   ],
   "source": [
    "for i in range(10):    \n",
    "    packetid, databuff, cryptbuff = aescore.burst_pairs_test(size = 8)\n",
    "    #pid.append(packetid)\n",
    "    #packetid, databuff, cryptbuff = aescore.burst_pairs_test(size = 8)\n",
    "    #print 'packetid:', hex(packetid) #, databuff, cryptbuff\n",
    "    #print databuff\n",
    "    Cluster.sendpackets(databuff, source=0x0000, sink=0x0004)\n",
    "    #time.sleep(0.5)\n",
    "    retbuff = Cluster.getpackets([packetid])\n",
    "    if len(retbuff):\n",
    "        if (retbuff[0]['packet'][1:] == cryptbuff).all():\n",
    "            print \"encryption is correct\"\n",
    "            pass\n",
    "        else:\n",
    "            print retbuff[0]['packet'][1:]\n",
    "            print cryptbuff\n",
    "            print '@',i,'@'\n",
    "            pass\n",
    "    else:\n",
    "        print i,"
   ]
  },
  {
   "cell_type": "code",
   "execution_count": 11,
   "metadata": {},
   "outputs": [
    {
     "name": "stdout",
     "output_type": "stream",
     "text": [
      "packetid: 0x81e0\n"
     ]
    }
   ],
   "source": [
    "packetid, databuff, cryptbuff = aescore.burst_pairs_test(size = 8)\n",
    "print 'packetid:', hex(packetid) #, databuff, cryptbuff\n",
    "Cluster.sendpackets(databuff, source=0x0000, sink=0x000c)\n",
    "retbuff = Cluster.getpackets([packetid])\n",
    "if len(retbuff):\n",
    "    if (retbuff[0]['packet'][1:] == cryptbuff).all():\n",
    "        print \"encryption is correct\""
   ]
  },
  {
   "cell_type": "code",
   "execution_count": 13,
   "metadata": {
    "collapsed": true
   },
   "outputs": [],
   "source": [
    "retbuff = Cluster.getpackets([packetid])\n",
    "if len(retbuff):\n",
    "    if (retbuff[0]['packet'][1:] == cryptbuff).all():\n",
    "        print \"encryption is correct\""
   ]
  },
  {
   "cell_type": "code",
   "execution_count": 14,
   "metadata": {},
   "outputs": [
    {
     "name": "stdout",
     "output_type": "stream",
     "text": [
      "0\n"
     ]
    }
   ],
   "source": [
    "import numpy as np\n",
    "pid = []\n",
    "buff = np.array([], dtype=np.uint64)\n",
    "zeros = np.zeros((5,), dtype=np.uint64)\n",
    "for i in range (5):\n",
    "    packetid, databuff, cryptbuff = aescore.burst_pairs_test(size = 8)\n",
    "    pid.append(packetid)\n",
    "    #print 'packetid:', hex(packetid) #, databuff, cryptbuff\n",
    "    Cluster.sendpackets(databuff, source=0x0000, sink=0x0005)\n",
    "    packetid, databuff, cryptbuff = aescore.burst_pairs_test(size = 8)\n",
    "    pid.append(packetid)\n",
    "    #print 'packetid:', hex(packetid) #, databuff, cryptbuff\n",
    "    Cluster.sendpackets(databuff, source=0x0000, sink=0x0004)\n",
    "    \n",
    "retbuff = Cluster.getpackets(pid)\n",
    "print len(retbuff)\n"
   ]
  },
  {
   "cell_type": "code",
   "execution_count": 17,
   "metadata": {},
   "outputs": [
    {
     "name": "stdout",
     "output_type": "stream",
     "text": [
      "PCI is being Initialized....\n",
      "PCI Initialized\n",
      "BAR0 Size: 0x10000\n",
      "BAR1 Size: 0x100000\n",
      "pci_status : 0xffffffff001001feL\n",
      "pci_command : 0xffffffff000000feL\n",
      "pci_status : 0x100100L\n",
      "pci_command : 0x100100L\n",
      "setting node 0 with address : 0\n",
      "setting node 1 with address : 4\n",
      "setting node 2 with address : 8\n"
     ]
    }
   ],
   "source": [
    "%reload_ext autoreload\n",
    "%autoreload 2\n",
    "import numpy as np\n",
    "np.set_printoptions(formatter={'int':hex})\n",
    "\n",
    "\n",
    "import cluster\n",
    "import aescore\n",
    "import time\n",
    "\n",
    "Cluster = cluster.cluster()\n",
    "Cluster.conf(3)"
   ]
  },
  {
   "cell_type": "code",
   "execution_count": 27,
   "metadata": {},
   "outputs": [
    {
     "name": "stdout",
     "output_type": "stream",
     "text": [
      "[0x2f860000540381aeL 0x9def929dac828df3L 0x3204c000000489f4L\n",
      " 0xc36e7508181b6369L 0xc35b429b84afa310L 0x6b65687369686241L\n",
      " 0x2e6961706a614220L 0xa728264386dfeb5fL 0xde89881d4b8dc06fL]\n",
      "[{'source': 10L, 'packetid': 12166L, 'sink': 0L, 'packet': array([0x2f8600ffff0381eaL, 0x27fcbdaL, 0x27fcbdaL, 0x27fcbdaL, 0x27fcbdaL,\n",
      "       0x27fcbdaL, 0x27fcbdaL, 0x27fcbdaL, 0x27fcbdaL, 0x27fcbdaL], dtype=uint64), 'size': 10L}]\n"
     ]
    }
   ],
   "source": [
    "import numpy as np\n",
    "\n",
    "pkt = [0xc00a0000540381aeL, 0x9def929dac828df3L, 0x3204c000000489f4L,\n",
    "       0xc36e7508181b6369L, 0xc35b429b84afa310L, 0x6b65687369686241L,\n",
    "       0x2e6961706a614220L, 0xa728264386dfeb5fL, 0xde89881d4b8dc06fL]\n",
    "#0x16e00000540381aeL 0x75fa28c42e017c5aL 0x790c000000eb4f7L\n",
    "#0x54fc2676f6fe1187L 0x4b8b9dc6c5c5f7b0L 0x6b65687369686241L\n",
    "#0x2e6961706a614220L 0xfe6e62d7dfbfa5cbL 0x2f49ad06504a0a71L\n",
    "\n",
    "key = np.array([0x9def929dac828df3L, 0x3204c000000489f4L, #0x3204e7f0000489f4L,\n",
    "                0xc36e7508181b6369L, 0xc35b429b84afa310L], dtype=np.uint64)\n",
    "data = np.array([0x6b65687369686241L, 0x2e6961706a614220L], dtype=np.uint64)\n",
    "crypto = np.array([0xa728264386dfeb5fL, 0xde89881d4b8dc06fL], dtype=np.uint64)\n",
    "\n",
    "packetid, databuff = aescore.search_key(key, data, crypto, searchspace = 0x54)\n",
    "\n",
    "print databuff\n",
    "Cluster.sendpackets(databuff, source=0x0000, sink=0x000a)\n",
    "for i in range(10):\n",
    "    time.sleep(1)\n",
    "    retbuff = Cluster.getpackets([packetid])\n",
    "    if len(retbuff):\n",
    "        print retbuff\n",
    "        break"
   ]
  },
  {
   "cell_type": "code",
   "execution_count": 1,
   "metadata": {},
   "outputs": [
    {
     "name": "stdout",
     "output_type": "stream",
     "text": [
      "[14019424167175356846  8481951379672213445 9748483882707862076\n",
      " 16226211337867362304  2033750547382635620  7738706379605041729\n",
      "  3344311333748294176 18394578982280659376 11912176078801789847]\n"
     ]
    },
    {
     "ename": "NameError",
     "evalue": "name 'Cluster' is not defined",
     "output_type": "error",
     "traceback": [
      "\u001b[1;31m---------------------------------------------------------------------------\u001b[0m",
      "\u001b[1;31mNameError\u001b[0m                                 Traceback (most recent call last)",
      "\u001b[1;32m<ipython-input-1-1e31a8d4aa62>\u001b[0m in \u001b[0;36m<module>\u001b[1;34m()\u001b[0m\n\u001b[0;32m      8\u001b[0m \u001b[1;33m\u001b[0m\u001b[0m\n\u001b[0;32m      9\u001b[0m \u001b[1;32mprint\u001b[0m \u001b[0mdatabuff\u001b[0m\u001b[1;33m\u001b[0m\u001b[0m\n\u001b[1;32m---> 10\u001b[1;33m \u001b[0mCluster\u001b[0m\u001b[1;33m.\u001b[0m\u001b[0msendpackets\u001b[0m\u001b[1;33m(\u001b[0m\u001b[0mdatabuff\u001b[0m\u001b[1;33m,\u001b[0m \u001b[0msource\u001b[0m\u001b[1;33m=\u001b[0m\u001b[1;36m0x0000\u001b[0m\u001b[1;33m,\u001b[0m \u001b[0msink\u001b[0m\u001b[1;33m=\u001b[0m\u001b[1;36m0x0001\u001b[0m\u001b[1;33m)\u001b[0m\u001b[1;33m\u001b[0m\u001b[0m\n\u001b[0m\u001b[0;32m     11\u001b[0m \u001b[1;32mfor\u001b[0m \u001b[0mi\u001b[0m \u001b[1;32min\u001b[0m \u001b[0mrange\u001b[0m\u001b[1;33m(\u001b[0m\u001b[1;36m10\u001b[0m\u001b[1;33m)\u001b[0m\u001b[1;33m:\u001b[0m\u001b[1;33m\u001b[0m\u001b[0m\n\u001b[0;32m     12\u001b[0m     \u001b[0mtime\u001b[0m\u001b[1;33m.\u001b[0m\u001b[0msleep\u001b[0m\u001b[1;33m(\u001b[0m\u001b[1;36m1\u001b[0m\u001b[1;33m)\u001b[0m\u001b[1;33m\u001b[0m\u001b[0m\n",
      "\u001b[1;31mNameError\u001b[0m: name 'Cluster' is not defined"
     ]
    }
   ],
   "source": [
    "import numpy as np\n",
    "\n",
    "pkt = [0xc28f0000800381aeL, 0x75b5f1d72b7f27c5L, 0x874992710f6c423cL,\n",
    "       0xe12f153ddc000000L, 0x1c395558fa7f8c64L, 0x6b65687369686241L,\n",
    "       0x2e6961706a614220L, 0xff46ac202fb481b0L, 0xa5508d07bee2e397L]\n",
    "\n",
    "packetid, databuff = (int(pkt[0])>> 48)& 0xFFFF, np.array(pkt, dtype=np.uint64)\n",
    "\n",
    "print databuff\n",
    "Cluster.sendpackets(databuff, source=0x0000, sink=0x0001)\n",
    "for i in range(10):\n",
    "    time.sleep(1)\n",
    "    retbuff = Cluster.getpackets([packetid])\n",
    "    if len(retbuff):\n",
    "        print retbuff\n",
    "        break"
   ]
  },
  {
   "cell_type": "code",
   "execution_count": 9,
   "metadata": {},
   "outputs": [
    {
     "name": "stdout",
     "output_type": "stream",
     "text": [
      "[0x25369452030125c6L 0xe3f805230bbff529L]\n",
      "[0x25369452030125c6L 0xe3f805230bbff529L]\n",
      "[0x25369452030125c6L 0xe3f805230bbff529L]\n",
      "[0x25369452030125c6L 0xe3f805230bbff529L]\n",
      "[0x25369452030125c6L 0xe3f805230bbff529L]\n",
      "[0x25369452030125c6L 0xe3f805230bbff529L]\n",
      "[0x25369452030125c6L 0xe3f805230bbff529L]\n",
      "[0x25369452030125c6L 0xe3f805230bbff529L]\n",
      "[{'source': 1, 'packetid': 37404L, 'sink': 0, 'packet': array([0x921c0000080181aeL, 0xa8c85134820ebd32L, 0xfff2c612c1b97649L,\n",
      "       0x50fb58d9b7587eb4L, 0x84827b92d571ab8cL, 0x6b65687369686241L,\n",
      "       0x2e6961706a614220L, 0xa8c85134820ebd32L, 0xfff2c612c1b97649L,\n",
      "       0x50fb58d9b7587eb4L, 0x84827b92d571ab8cL, 0x6b65687369686241L,\n",
      "       0x2e6961706a614220L, 0xa8c85134820ebd32L, 0xfff2c612c1b97649L,\n",
      "       0x50fb58d9b7587eb4L, 0x84827b92d571ab8cL, 0x6b65687369686241L,\n",
      "       0x2e6961706a614220L, 0xa8c85134820ebd32L, 0xfff2c612c1b97649L,\n",
      "       0x50fb58d9b7587eb4L, 0x84827b92d571ab8cL, 0x6b65687369686241L,\n",
      "       0x2e6961706a614220L, 0xa8c85134820ebd32L, 0xfff2c612c1b97649L,\n",
      "       0x50fb58d9b7587eb4L, 0x84827b92d571ab8cL, 0x6b65687369686241L,\n",
      "       0x2e6961706a614220L, 0xa8c85134820ebd32L, 0xfff2c612c1b97649L,\n",
      "       0x50fb58d9b7587eb4L, 0x84827b92d571ab8cL, 0x6b65687369686241L,\n",
      "       0x2e6961706a614220L, 0xa8c85134820ebd32L, 0xfff2c612c1b97649L,\n",
      "       0x50fb58d9b7587eb4L, 0x84827b92d571ab8cL, 0x6b65687369686241L,\n",
      "       0x2e6961706a614220L, 0xa8c85134820ebd32L, 0xfff2c612c1b97649L,\n",
      "       0x50fb58d9b7587eb4L, 0x84827b92d571ab8cL, 0x6b65687369686241L,\n",
      "       0x2e6961706a614220L], dtype=uint64), 'size': 49}]\n"
     ]
    }
   ],
   "source": [
    "import aescore\n",
    "key = np.array([0xa8c85134820ebd32, 0xfff2c612c1b97649L,\n",
    "          0x50fb58d9b7587eb4L, 0x84827b92d571ab8cL], dtype=np.uint64)\n",
    "data = np.array([0x6b65687369686241L, 0x2e6961706a614220L], dtype=np.uint64)\n",
    "packetid, databuff = aescore.burst_pairs(key, data, size = 8)\n",
    "\n",
    "Cluster.sendpackets(databuff, source=0x0000, sink=0x0001)\n",
    "for i in range(10):\n",
    "    time.sleep(1)\n",
    "    retbuff = Cluster.getpackets([packetid])\n",
    "    if len(retbuff):\n",
    "        print retbuff\n",
    "        break\n"
   ]
  },
  {
   "cell_type": "code",
   "execution_count": null,
   "metadata": {
    "collapsed": true
   },
   "outputs": [],
   "source": []
  }
 ],
 "metadata": {
  "kernelspec": {
   "display_name": "Python 3",
   "language": "python",
   "name": "python3"
  },
  "language_info": {
   "codemirror_mode": {
    "name": "ipython",
    "version": 3
   },
   "file_extension": ".py",
   "mimetype": "text/x-python",
   "name": "python",
   "nbconvert_exporter": "python",
   "pygments_lexer": "ipython3",
   "version": "3.7.2"
  }
 },
 "nbformat": 4,
 "nbformat_minor": 2
}
