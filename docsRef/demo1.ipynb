{
 "cells": [
  {
   "cell_type": "code",
   "execution_count": 10,
   "metadata": {
    "collapsed": false
   },
   "outputs": [
    {
     "name": "stdout",
     "output_type": "stream",
     "text": [
      "PCI Initialized\n",
      "BAR0 Size: 0x10000\n",
      "BAR1 Size: 0x100000\n",
      "setting node 0 with address : 0\n",
      "setting node 1 with address : 4\n",
      "setting node 2 with address : 8\n",
      "setting node 3 with address : 12\n"
     ]
    }
   ],
   "source": [
    "%reload_ext autoreload\n",
    "%autoreload 2\n",
    "import numpy as np\n",
    "np.set_printoptions(formatter={'int':hex})\n",
    "\n",
    "\n",
    "import cluster\n",
    "import aescore\n",
    "import time\n",
    "\n",
    "Cluster = cluster.cluster()\n",
    "Cluster.conf(4)"
   ]
  },
  {
   "cell_type": "code",
   "execution_count": 11,
   "metadata": {
    "collapsed": false
   },
   "outputs": [
    {
     "name": "stdout",
     "output_type": "stream",
     "text": [
      "#########################################################\n",
      "[0x588b705516f0d945L 0xf639ae74fef9babcL 0xae6f569fb08b4f1aL\n",
      " 0x66a9edf2a39e58c7L 0xb5aee04dee84385bL 0x3fe5512b0abe12a6L\n",
      " 0x6c228795a5d108d6L 0x536a72c4e96ecaa2L 0x9ee6da138f408b70L\n",
      " 0x185da35c8c0899aL 0x7f5557a833e3493fL 0xc3da01b2d5232150L\n",
      " 0x89382acac575e9f1L 0x65b0f9b0bcb4cb37L 0xe6451d720e406951L\n",
      " 0x70f0c37a60c49bccL]\n",
      "[0x588b705516f0d945L 0xf639ae74fef9babcL 0xae6f569fb08b4f1aL\n",
      " 0x66a9edf2a39e58c7L 0xb5aee04dee84385bL 0x3fe5512b0abe12a6L\n",
      " 0x6c228795a5d108d6L 0x536a72c4e96ecaa2L 0x9ee6da138f408b70L\n",
      " 0x185da35c8c0899aL 0x7f5557a833e3493fL 0xc3da01b2d5232150L\n",
      " 0x89382acac575e9f1L 0x65b0f9b0bcb4cb37L 0x0L 0x0L]\n"
     ]
    }
   ],
   "source": [
    "for i in range(1):\n",
    "    packetid, databuff, cryptbuff = aescore.burst_pairs_test(size = 8)\n",
    "    #print 'packetid:', hex(packetid) #, databuff, cryptbuff\n",
    "    #print databuff\n",
    "    Cluster.sendpackets(databuff, source=0x0000, sink=0x0004)\n",
    "    retbuff = Cluster.getpackets([packetid])\n",
    "    time.sleep(1.0/10)\n",
    "    if len(retbuff):\n",
    "        if (retbuff[0]['packet'][1:] == cryptbuff).all():\n",
    "            print \"encryption is correct\"\n",
    "            pass\n",
    "        else:\n",
    "            print '#########################################################'\n",
    "            print cryptbuff\n",
    "            print retbuff[0]['packet'][1:]\n",
    "    else:\n",
    "        print '#########################################################'\n",
    "        print retbuff[0]['packet'][1:]"
   ]
  },
  {
   "cell_type": "code",
   "execution_count": 14,
   "metadata": {
    "collapsed": false
   },
   "outputs": [
    {
     "name": "stdout",
     "output_type": "stream",
     "text": [
      "# # # # # # # # # #\n"
     ]
    }
   ],
   "source": [
    "for i in range(10):\n",
    "    packetid, databuff, cryptbuff = aescore.burst_singlekey_test(size = 16)\n",
    "    #print 'packetid:', hex(packetid) #, databuff, cryptbuff\n",
    "    #print databuff\n",
    "    Cluster.sendpackets(databuff, source=0x0000, sink=0x0005)\n",
    "    time.sleep(0.1)\n",
    "    retbuff = Cluster.getpackets([packetid])\n",
    "    if len(retbuff):\n",
    "        #print retbuff[0]['packet'][1:], cryptbuff\n",
    "        if (retbuff[0]['packet'][1:] == cryptbuff).all():\n",
    "            print i,\n",
    "            pass\n",
    "        else:\n",
    "            print '@',\n",
    "    else:\n",
    "        print '#',"
   ]
  },
  {
   "cell_type": "code",
   "execution_count": 7,
   "metadata": {
    "collapsed": false
   },
   "outputs": [
    {
     "name": "stdout",
     "output_type": "stream",
     "text": [
      "[0x63150000540381aeL 0x9def929dac828df3L 0x3204c000000489f4L\n",
      " 0xc36e7508181b6369L 0xc35b429b84afa310L 0x6b65687369686241L\n",
      " 0x2e6961706a614220L 0xa728264386dfeb5fL 0xde89881d4b8dc06fL]\n",
      "[{'source': 4, 'packetid': 25365L, 'sink': 0, 'packet': array([0x631500ffff0381eaL, 0x27fcbdaL, 0x27fcbdaL, 0x27fcbdaL, 0x27fcbdaL,\n",
      "       0x27fcbdaL, 0x27fcbdaL, 0x27fcbdaL, 0x27fcbdaL, 0x27fcbdaL], dtype=uint64), 'size': 10}]\n"
     ]
    }
   ],
   "source": [
    "pkt = [0xc00a0000540381aeL, 0x9def929dac828df3L, 0x3204c000000489f4L,\n",
    "       0xc36e7508181b6369L, 0xc35b429b84afa310L, 0x6b65687369686241L,\n",
    "       0x2e6961706a614220L, 0xa728264386dfeb5fL, 0xde89881d4b8dc06fL]\n",
    "#0x16e00000540381aeL 0x75fa28c42e017c5aL 0x790c000000eb4f7L\n",
    "#0x54fc2676f6fe1187L 0x4b8b9dc6c5c5f7b0L 0x6b65687369686241L\n",
    "#0x2e6961706a614220L 0xfe6e62d7dfbfa5cbL 0x2f49ad06504a0a71L\n",
    "\n",
    "key = np.array([0x9def929dac828df3L, 0x3204c000000489f4L, #0x3204e7f0000489f4L,\n",
    "                0xc36e7508181b6369L, 0xc35b429b84afa310L], dtype=np.uint64)\n",
    "data = np.array([0x6b65687369686241L, 0x2e6961706a614220L], dtype=np.uint64)\n",
    "crypto = np.array([0xa728264386dfeb5fL, 0xde89881d4b8dc06fL], dtype=np.uint64)\n",
    "\n",
    "packetid, databuff = aescore.search_key(key, data, crypto, searchspace = 0x54)\n",
    "\n",
    "print databuff\n",
    "Cluster.sendpackets(databuff, source=0x0000, sink=0x0004)\n",
    "for i in range(10):\n",
    "    time.sleep(1)\n",
    "    retbuff = Cluster.getpackets([packetid])\n",
    "    if len(retbuff):\n",
    "        print retbuff\n",
    "        break"
   ]
  },
  {
   "cell_type": "code",
   "execution_count": null,
   "metadata": {
    "collapsed": true
   },
   "outputs": [],
   "source": []
  }
 ],
 "metadata": {
  "kernelspec": {
   "display_name": "Python 2",
   "language": "python",
   "name": "python2"
  },
  "language_info": {
   "codemirror_mode": {
    "name": "ipython",
    "version": 2
   },
   "file_extension": ".py",
   "mimetype": "text/x-python",
   "name": "python",
   "nbconvert_exporter": "python",
   "pygments_lexer": "ipython2",
   "version": "2.7.10"
  }
 },
 "nbformat": 4,
 "nbformat_minor": 0
}
