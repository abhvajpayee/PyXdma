{
 "cells": [
  {
   "cell_type": "code",
   "execution_count": 1,
   "metadata": {
    "collapsed": false
   },
   "outputs": [
    {
     "name": "stdout",
     "output_type": "stream",
     "text": [
      "PCI is being Initialized....\n",
      "PCI Initialized\n",
      "BAR0 Size: 0x10000\n",
      "BAR1 Size: 0x100000\n"
     ]
    }
   ],
   "source": [
    "%reload_ext autoreload\n",
    "%autoreload 2\n",
    "\n",
    "import os\n",
    "import time\n",
    "import numpy as np\n",
    "np.set_printoptions(formatter={'int':hex})\n",
    "#os.environ['LD_LIBRARY_PATH'] = '/home/admin/pciDriver/lib'\n",
    "from PyPci import pci\n",
    "dev = pci.pci()"
   ]
  },
  {
   "cell_type": "code",
   "execution_count": 4,
   "metadata": {
    "collapsed": false
   },
   "outputs": [
    {
     "name": "stdout",
     "output_type": "stream",
     "text": [
      "[{'source': 1L, 'size': 10L, 'sink': 0L, 'packet': array([1991716935271940586,                   0,                   0,\n",
      "                         0,                   0,                   0,\n",
      "                         0,                   0,                   0,\n",
      "                         0], dtype=uint64), 'packetid': 7076L}, {'source': 2L, 'size': 10L, 'sink': 0L, 'packet': array([6229604184627577322,                   0,                   0,\n",
      "                         0,                   0,                   0,\n",
      "                         0,                   0,                   0,\n",
      "                         0], dtype=uint64), 'packetid': 22132L}, {'source': 5L, 'size': 10L, 'sink': 0L, 'packet': array([3622020000380060138,                   0,                   0,\n",
      "                         0,                   0,                   0,\n",
      "                         0,                   0,                   0,\n",
      "                         0], dtype=uint64), 'packetid': 12868L}, {'source': 6L, 'size': 10L, 'sink': 0L, 'packet': array([6006113053119316458,                   0,                   0,\n",
      "                         0,                   0,                   0,\n",
      "                         0,                   0,                   0,\n",
      "                         0], dtype=uint64), 'packetid': 21338L}, {'source': 8L, 'size': 10L, 'sink': 0L, 'packet': array([10336887044789469674,                    0,                    0,\n",
      "       17870294316673401087,  7574210148374381034,                    0,\n",
      "                          0,                    0,                    0,\n",
      "                          0], dtype=uint64), 'packetid': 36724L}]\n"
     ]
    }
   ],
   "source": [
    "\n",
    "{'node': 9, 'watchdog': 0, 'busy': 1, 'group': 2, 'packet': {'searchptr': 4, 'group': 2, 'key': array([0x3773e0284000000bL, 0xc1d10522857471baL, 0x237ab07188b18c09L,\n",
    "       0x1a02d68d52d614d9L], dtype=uint64), 'packet': np.array([0xf16f0000040381aeL, 0x3773e0284000000bL, 0xc1d10522857471baL,\n",
    "       0x237ab07188b18c09L, 0x1a02d68d52d614d9L, 0x6b65687369686241L,\n",
    "       0x2e6961706a614220L, 0xee9154afa11e6ed3L, 0xb26465ac6e372020L], dtype=uint64), 'packetid': 61807}}\n"
   ]
  },
  {
   "cell_type": "code",
   "execution_count": 17,
   "metadata": {
    "collapsed": false
   },
   "outputs": [
    {
     "name": "stdout",
     "output_type": "stream",
     "text": [
      "PCI is being Initialized....\n",
      "PCI Initialized\n",
      "BAR0 Size: 0x10000\n",
      "BAR1 Size: 0x100000\n",
      "pci_status : 0xffffffff001001feL\n",
      "pci_command : 0xffffffff000000feL\n",
      "pci_status : 0x100100L\n",
      "pci_command : 0x100100L\n",
      "setting node 0 with address : 0\n",
      "setting node 1 with address : 4\n",
      "setting node 2 with address : 8\n"
     ]
    },
    {
     "data": {
      "text/plain": [
       "0"
      ]
     },
     "execution_count": 17,
     "metadata": {},
     "output_type": "execute_result"
    }
   ],
   "source": [
    "import numpy as np\n",
    "import cluster\n",
    "packet = np.array([0x923b0000040381aeL, 0x609054078000000cL, 0x44f866f2f06fcae5L,\n",
    "                   0x5f7fab848cffff18L, 0x720ca6dc769c1944L, 0x6b65687369686241L,\n",
    "                   0x2e6961706a614220L, 0x4179af470e1b7ed5L, 0x4637f3db8f5a3e38L], dtype=np.uint64)\n",
    "\n",
    "Cluster = cluster.cluster()\n",
    "Cluster.reset()\n",
    "Cluster.conf(3)\n",
    "Cluster.sendpackets(packet, source=0x0000, sink=0x0001)"
   ]
  },
  {
   "cell_type": "code",
   "execution_count": 18,
   "metadata": {
    "collapsed": false
   },
   "outputs": [],
   "source": [
    "retbuff = Cluster.getpackets([37435])"
   ]
  },
  {
   "cell_type": "code",
   "execution_count": null,
   "metadata": {
    "collapsed": true
   },
   "outputs": [],
   "source": []
  }
 ],
 "metadata": {
  "kernelspec": {
   "display_name": "Python 2",
   "language": "python",
   "name": "python2"
  },
  "language_info": {
   "codemirror_mode": {
    "name": "ipython",
    "version": 2
   },
   "file_extension": ".py",
   "mimetype": "text/x-python",
   "name": "python",
   "nbconvert_exporter": "python",
   "pygments_lexer": "ipython2",
   "version": "2.7.12"
  }
 },
 "nbformat": 4,
 "nbformat_minor": 0
}
