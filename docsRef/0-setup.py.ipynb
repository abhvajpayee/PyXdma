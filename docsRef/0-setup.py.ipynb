{
 "cells": [
  {
   "cell_type": "code",
   "execution_count": 5,
   "metadata": {},
   "outputs": [
    {
     "name": "stdout",
     "output_type": "stream",
     "text": [
      "~/devel/PyPci-0.1.0 ~/devel/PyPci-0.1.0/docs\n",
      "running clean\n",
      "running bdist\n",
      "running bdist_dumb\n",
      "running build\n",
      "running build_py\n",
      "running build_ext\n",
      "installing to build/bdist.linux-x86_64/dumb\n",
      "running install\n",
      "running install_lib\n",
      "creating build/bdist.linux-x86_64/dumb\n",
      "creating build/bdist.linux-x86_64/dumb/usr\n",
      "creating build/bdist.linux-x86_64/dumb/usr/lib64\n",
      "creating build/bdist.linux-x86_64/dumb/usr/lib64/python3.5\n",
      "creating build/bdist.linux-x86_64/dumb/usr/lib64/python3.5/site-packages\n",
      "creating build/bdist.linux-x86_64/dumb/usr/lib64/python3.5/site-packages/PyPci\n",
      "copying build/lib.linux-x86_64-3.5/PyPci/__init__.py -> build/bdist.linux-x86_64/dumb/usr/lib64/python3.5/site-packages/PyPci\n",
      "byte-compiling build/bdist.linux-x86_64/dumb/usr/lib64/python3.5/site-packages/PyPci/__init__.py to __init__.cpython-35.pyc\n",
      "running install_egg_info\n",
      "Writing build/bdist.linux-x86_64/dumb/usr/lib64/python3.5/site-packages/PyPci-0.1.0-py3.5.egg-info\n",
      "Creating tar archive\n",
      "removing 'build/bdist.linux-x86_64/dumb' (and everything under it)\n",
      "running install\n",
      "running build\n",
      "running build_py\n",
      "running build_ext\n",
      "running install_lib\n",
      "creating /usr/lib64/python3.5/site-packages/PyPci\n",
      "copying build/lib.linux-x86_64-3.5/PyPci/__init__.py -> /usr/lib64/python3.5/site-packages/PyPci\n",
      "byte-compiling /usr/lib64/python3.5/site-packages/PyPci/__init__.py to __init__.cpython-35.pyc\n",
      "running install_egg_info\n",
      "Writing /usr/lib64/python3.5/site-packages/PyPci-0.1.0-py3.5.egg-info\n",
      "~/devel/PyPci-0.1.0/docs\n"
     ]
    }
   ],
   "source": [
    "%%bash\n",
    "pushd ../\n",
    "python3 setup.py clean\n",
    "python3 setup.py bdist\n",
    "python3 setup.py install\n",
    "popd"
   ]
  },
  {
   "cell_type": "code",
   "execution_count": null,
   "metadata": {
    "collapsed": true
   },
   "outputs": [],
   "source": []
  },
  {
   "cell_type": "code",
   "execution_count": null,
   "metadata": {
    "collapsed": true
   },
   "outputs": [],
   "source": []
  }
 ],
 "metadata": {
  "kernelspec": {
   "display_name": "Python 3",
   "language": "python",
   "name": "python3"
  },
  "language_info": {
   "codemirror_mode": {
    "name": "ipython",
    "version": 3
   },
   "file_extension": ".py",
   "mimetype": "text/x-python",
   "name": "python",
   "nbconvert_exporter": "python",
   "pygments_lexer": "ipython3",
   "version": "3.7.0"
  }
 },
 "nbformat": 4,
 "nbformat_minor": 2
}
