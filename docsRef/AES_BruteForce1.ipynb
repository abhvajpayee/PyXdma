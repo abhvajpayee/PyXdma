{
 "cells": [
  {
   "cell_type": "code",
   "execution_count": 1,
   "metadata": {
    "collapsed": false
   },
   "outputs": [],
   "source": [
    "import os\n",
    "import time\n",
    "import numpy as np\n",
    "from random import randrange\n",
    "from Crypto.Cipher import AES\n",
    "np.set_printoptions(formatter={'int':hex})\n",
    "\n",
    "\n",
    "def search_key_test_soft(searchspace = 0):\n",
    "    keysize = 256\n",
    "    datasize = 128\n",
    "    base = 64\n",
    "    key = np.array([randrange(2**base) for i in range (keysize/base)], dtype=np.uint64)\n",
    "    key[0] = 0x0FFFFFFFFFFFFF00\n",
    "    #print '#', key\n",
    "    data = np.array([randrange(2**base) for i in range (datasize/base)], dtype=np.uint64)\n",
    "\n",
    "    mode = AES.MODE_ECB\n",
    "    aes = AES.new(key, mode)\n",
    "    encryptedbuffer = aes.encrypt(data)\n",
    "    #encrypted = np.frombuffer(encryptedbuffer, dtype=np.uint64)\n",
    "        \n",
    "    key[0] = key[0] & 0xFFFFFFFFFFFF0000\n",
    "    #print hex(key[0])\n",
    "    testkey = key.copy()\n",
    "    counter = 0\n",
    "    while counter < 2**26:\n",
    "        testkey[0] = int(key[0]) + counter\n",
    "        counter = counter + 1\n",
    "        aes = AES.new(testkey, mode)\n",
    "        testencryptedbuffer = aes.encrypt(data)\n",
    "        \n",
    "        if testencryptedbuffer == encryptedbuffer:\n",
    "            #\n",
    "            print \"match found\"\n",
    "            print testkey"
   ]
  },
  {
   "cell_type": "code",
   "execution_count": 4,
   "metadata": {
    "collapsed": false
   },
   "outputs": [
    {
     "name": "stdout",
     "output_type": "stream",
     "text": [
      "match found\n",
      "[0xfffffffffffff00L 0x4539b3bedec2c923L 0x99f5164bdf658cffL\n",
      " 0x948d9c6a8f2c6301L]\n",
      "CPU times: user 6min 15s, sys: 14 ms, total: 6min 15s\n",
      "Wall time: 6min 16s\n"
     ]
    }
   ],
   "source": [
    "%time search_key_test_soft(searchspace = 0)"
   ]
  },
  {
   "cell_type": "code",
   "execution_count": null,
   "metadata": {
    "collapsed": false
   },
   "outputs": [],
   "source": []
  }
 ],
 "metadata": {
  "kernelspec": {
   "display_name": "Python 2",
   "language": "python",
   "name": "python2"
  },
  "language_info": {
   "codemirror_mode": {
    "name": "ipython",
    "version": 2
   },
   "file_extension": ".py",
   "mimetype": "text/x-python",
   "name": "python",
   "nbconvert_exporter": "python",
   "pygments_lexer": "ipython2",
   "version": "2.7.10"
  }
 },
 "nbformat": 4,
 "nbformat_minor": 0
}
